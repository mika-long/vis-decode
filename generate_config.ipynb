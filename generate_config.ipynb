{
 "cells": [
  {
   "cell_type": "markdown",
   "id": "e6e30925-a4fb-4db8-a75c-f21bc9a32c48",
   "metadata": {},
   "source": [
    "# Generate configuration using the `revisitpy` package\n",
    "\n",
    "Source: https://revisit.dev/docs/revisitpy/\n",
    "Also: \n",
    "- https://github.com/revisit-studies/revisitpy-examples\n",
    "- https://github.com/revisit-studies/revisitpy"
   ]
  },
  {
   "cell_type": "code",
   "execution_count": 40,
   "id": "7013fe67-7119-405c-b837-d64bd81e435d",
   "metadata": {},
   "outputs": [],
   "source": [
    "import revisitpy as rvt\n",
    "import pandas as pd "
   ]
  },
  {
   "cell_type": "markdown",
   "id": "eea75b94",
   "metadata": {},
   "source": [
    "## Metadata \n",
    "\n",
    "- Example here: https://revisit.dev/docs/revisitpy/examples/example_jnd_study/ "
   ]
  },
  {
   "cell_type": "code",
   "execution_count": 41,
   "id": "0b2921ec-2aae-4c42-aaf4-ec50210f4834",
   "metadata": {},
   "outputs": [
    {
     "name": "stdout",
     "output_type": "stream",
     "text": [
      "{\n",
      "    \"authors\": [\n",
      "        \"Brian Bollen\"\n",
      "    ],\n",
      "    \"date\": \"2025-01-13\",\n",
      "    \"description\": \"\",\n",
      "    \"organizations\": [\n",
      "        \"Visualization Design Lab\"\n",
      "    ],\n",
      "    \"title\": \"Correlation Judgment Study\",\n",
      "    \"version\": \"1.0\"\n",
      "}\n",
      "{\n",
      "    \"contactEmail\": \"briancbollen@gmail.com\",\n",
      "    \"logoPath\": \"./assets/revisitLogoSquare.svg\",\n",
      "    \"nextOnEnter\": true,\n",
      "    \"withProgressBar\": false,\n",
      "    \"withSidebar\": true\n",
      "}\n"
     ]
    }
   ],
   "source": [
    "# Meta Data\n",
    "study_metadata = rvt.studyMetadata(\n",
    "    authors=[\"Brian Bollen\"],\n",
    "    organizations=[\"Visualization Design Lab\"],\n",
    "    title='Correlation Judgment Study',\n",
    "    description='',\n",
    "    date='2025-01-13',\n",
    "    version='1.0'\n",
    ")\n",
    "\n",
    "# UI Config\n",
    "ui_config = rvt.uiConfig(\n",
    "  contactEmail=\"briancbollen@gmail.com\",\n",
    "  logoPath=\"./assets/revisitLogoSquare.svg\",\n",
    "  withSidebar=True,\n",
    "  withProgressBar=False,\n",
    "  nextOnEnter=True\n",
    ")\n",
    "\n",
    "print(study_metadata)\n",
    "print(ui_config)"
   ]
  },
  {
   "cell_type": "markdown",
   "id": "8c1ebcf2",
   "metadata": {},
   "source": [
    "## Generate component related "
   ]
  },
  {
   "cell_type": "code",
   "execution_count": 42,
   "id": "e67c7b81",
   "metadata": {},
   "outputs": [],
   "source": [
    "response = rvt.response(\n",
    "    id = \"retrieve_value\", \n",
    "    prompt = 'Your selected answer', \n",
    "    location = 'belowStimulus', \n",
    "    type = 'numerical', \n",
    "    required = True,\n",
    ")"
   ]
  },
  {
   "cell_type": "code",
   "execution_count": 43,
   "id": "5dd4515d",
   "metadata": {},
   "outputs": [
    {
     "name": "stdout",
     "output_type": "stream",
     "text": [
      "{\n",
      "    \"components\": [\n",
      "        \"place-holder-component_id:1\",\n",
      "        \"place-holder-component_id:2\",\n",
      "        \"place-holder-component_id:3\",\n",
      "        \"place-holder-component_id:4\",\n",
      "        \"place-holder-component_id:5\",\n",
      "        \"place-holder-component_id:6\",\n",
      "        \"place-holder-component_id:7\",\n",
      "        \"place-holder-component_id:8\",\n",
      "        \"place-holder-component_id:9\",\n",
      "        \"place-holder-component_id:10\"\n",
      "    ],\n",
      "    \"numSamples\": 5.0,\n",
      "    \"order\": \"random\"\n",
      "}\n"
     ]
    }
   ],
   "source": [
    "new_df = pd.DataFrame({\"id\": [i + 1 for i in range(10)]})\n",
    "# print(new_df)\n",
    "new_df.to_csv('data.csv', index=False)\n",
    "# print(rvt.data(\"data.csv\"))\n",
    "\n",
    "data_sequence = rvt.sequence(order = 'random', numSamples=5).from_data(rvt.data(\"data.csv\"))\n",
    "print(data_sequence)"
   ]
  },
  {
   "cell_type": "code",
   "execution_count": 44,
   "id": "7a0a0309",
   "metadata": {},
   "outputs": [],
   "source": [
    "def retrieve_value_component_function(id): \n",
    "    comp = rvt.component(\n",
    "        component_name__ = f'retrieve_value_{id}',\n",
    "        type = 'vega',\n",
    "        response = [response],\n",
    "        path = f'./specs/{id}.json', \n",
    "        instruction = f'Enter the answer to the question', \n",
    "        instructionLocation = 'belowStimulus',\n",
    "        withSidebar = False,\n",
    "    )\n",
    "    return comp"
   ]
  },
  {
   "cell_type": "code",
   "execution_count": 39,
   "id": "db45338f",
   "metadata": {},
   "outputs": [
    {
     "ename": "AttributeError",
     "evalue": "'VegaComponent' object has no attribute 'meta'",
     "output_type": "error",
     "traceback": [
      "\u001b[31m---------------------------------------------------------------------------\u001b[39m",
      "\u001b[31mAttributeError\u001b[39m                            Traceback (most recent call last)",
      "\u001b[36mCell\u001b[39m\u001b[36m \u001b[39m\u001b[32mIn[39]\u001b[39m\u001b[32m, line 1\u001b[39m\n\u001b[32m----> \u001b[39m\u001b[32m1\u001b[39m \u001b[43mdata_sequence\u001b[49m\u001b[43m.\u001b[49m\u001b[43mcomponent\u001b[49m\u001b[43m(\u001b[49m\u001b[43mretrieve_value_component_function\u001b[49m\u001b[43m)\u001b[49m\n\u001b[32m      2\u001b[39m \u001b[38;5;66;03m# print(data_sequence)\u001b[39;00m\n\u001b[32m      3\u001b[39m \u001b[38;5;28mprint\u001b[39m(data_sequence.get_components()[\u001b[32m0\u001b[39m])\n",
      "\u001b[36mFile \u001b[39m\u001b[32m~/Downloads/study/.venv/lib/python3.11/site-packages/revisitpy/revisitpy.py:227\u001b[39m, in \u001b[36m_WrappedComponentBlock.component\u001b[39m\u001b[34m(self, component_function)\u001b[39m\n\u001b[32m    223\u001b[39m self_json = json.loads(\u001b[38;5;28mself\u001b[39m.\u001b[34m__str__\u001b[39m())\n\u001b[32m    225\u001b[39m components_dict = {c.component_name__: c \u001b[38;5;28;01mfor\u001b[39;00m c \u001b[38;5;129;01min\u001b[39;00m \u001b[38;5;28mself\u001b[39m.component_objects__}\n\u001b[32m--> \u001b[39m\u001b[32m227\u001b[39m x = \u001b[43m_recursive_map\u001b[49m\u001b[43m(\u001b[49m\u001b[43mself_json\u001b[49m\u001b[43m,\u001b[49m\u001b[43m \u001b[49m\u001b[43mcomponents_dict\u001b[49m\u001b[43m,\u001b[49m\u001b[43m \u001b[49m\u001b[43mcomponent_function\u001b[49m\u001b[43m)\u001b[49m\n\u001b[32m    229\u001b[39m \u001b[38;5;28mself\u001b[39m.component_objects__ = x.component_objects__\n\u001b[32m    230\u001b[39m \u001b[38;5;28mself\u001b[39m.root = x.root\n",
      "\u001b[36mFile \u001b[39m\u001b[32m~/Downloads/study/.venv/lib/python3.11/site-packages/revisitpy/revisitpy.py:949\u001b[39m, in \u001b[36m_recursive_map\u001b[39m\u001b[34m(input_json, input_components, component_function)\u001b[39m\n\u001b[32m    947\u001b[39m \u001b[38;5;28;01mif\u001b[39;00m \u001b[38;5;28misinstance\u001b[39m(c, \u001b[38;5;28mstr\u001b[39m):\n\u001b[32m    948\u001b[39m     curr_comp = input_components[c]\n\u001b[32m--> \u001b[39m\u001b[32m949\u001b[39m     metadata = \u001b[43mcurr_comp\u001b[49m\u001b[43m.\u001b[49m\u001b[43mroot\u001b[49m\u001b[43m.\u001b[49m\u001b[43mmeta\u001b[49m\n\u001b[32m    950\u001b[39m     \u001b[38;5;66;03m# Create new comp block for permuting this component across all factors\u001b[39;00m\n\u001b[32m    951\u001b[39m     \u001b[38;5;66;03m# curr_seq = __sequence__(order=order, numSamples=numSamples)\u001b[39;00m\n\u001b[32m    952\u001b[39m     \u001b[38;5;28;01mtry\u001b[39;00m:\n",
      "\u001b[36mFile \u001b[39m\u001b[32m~/Downloads/study/.venv/lib/python3.11/site-packages/pydantic/main.py:1026\u001b[39m, in \u001b[36mBaseModel.__getattr__\u001b[39m\u001b[34m(self, item)\u001b[39m\n\u001b[32m   1023\u001b[39m     \u001b[38;5;28;01mreturn\u001b[39;00m \u001b[38;5;28msuper\u001b[39m().\u001b[34m__getattribute__\u001b[39m(item)  \u001b[38;5;66;03m# Raises AttributeError if appropriate\u001b[39;00m\n\u001b[32m   1024\u001b[39m \u001b[38;5;28;01melse\u001b[39;00m:\n\u001b[32m   1025\u001b[39m     \u001b[38;5;66;03m# this is the current error\u001b[39;00m\n\u001b[32m-> \u001b[39m\u001b[32m1026\u001b[39m     \u001b[38;5;28;01mraise\u001b[39;00m \u001b[38;5;167;01mAttributeError\u001b[39;00m(\u001b[33mf\u001b[39m\u001b[33m'\u001b[39m\u001b[38;5;132;01m{\u001b[39;00m\u001b[38;5;28mtype\u001b[39m(\u001b[38;5;28mself\u001b[39m).\u001b[34m__name__\u001b[39m\u001b[38;5;132;01m!r}\u001b[39;00m\u001b[33m object has no attribute \u001b[39m\u001b[38;5;132;01m{\u001b[39;00mitem\u001b[38;5;132;01m!r}\u001b[39;00m\u001b[33m'\u001b[39m)\n",
      "\u001b[31mAttributeError\u001b[39m: 'VegaComponent' object has no attribute 'meta'"
     ]
    }
   ],
   "source": [
    "data_sequence.component(retrieve_value_component_function)\n",
    "# print(data_sequence)\n",
    "print(data_sequence.get_components()[0])"
   ]
  },
  {
   "cell_type": "code",
   "execution_count": null,
   "id": "7357f4ba",
   "metadata": {},
   "outputs": [
    {
     "name": "stdout",
     "output_type": "stream",
     "text": [
      "   id\n",
      "0   1\n",
      "1   2\n",
      "2   3\n",
      "3   4\n",
      "4   5\n",
      "5   6\n",
      "6   7\n",
      "7   8\n",
      "8   9\n",
      "9  10\n"
     ]
    }
   ],
   "source": []
  },
  {
   "cell_type": "code",
   "execution_count": null,
   "id": "971bf9e1",
   "metadata": {},
   "outputs": [],
   "source": []
  }
 ],
 "metadata": {
  "kernelspec": {
   "display_name": ".venv",
   "language": "python",
   "name": "python3"
  },
  "language_info": {
   "codemirror_mode": {
    "name": "ipython",
    "version": 3
   },
   "file_extension": ".py",
   "mimetype": "text/x-python",
   "name": "python",
   "nbconvert_exporter": "python",
   "pygments_lexer": "ipython3",
   "version": "3.11.6"
  }
 },
 "nbformat": 4,
 "nbformat_minor": 5
}
